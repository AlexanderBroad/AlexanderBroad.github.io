{
 "cells": [
  {
   "cell_type": "markdown",
   "id": "54238c39",
   "metadata": {},
   "source": [
    "# Week 1: Getting Started with Anaconda, Jupyter Notebook and Python\n",
    "Exercises to familiarise myself with Jupyter Notebook and its relationship to Python\n"
   ]
  },
  {
   "cell_type": "markdown",
   "id": "93d9f0e4",
   "metadata": {},
   "source": [
    "a)\tWhy you chose to join this course – for, motivation, vision, aspiration?\n",
    "b)\tPrior experience, if any, you have with AI and/or Python, and, \n",
    "c)\tWhat you expect to learn from the course (aim for 3-5 bullet points)\n"
   ]
  },
  {
   "cell_type": "code",
   "execution_count": null,
   "id": "514511b7",
   "metadata": {},
   "outputs": [],
   "source": [
    "print (\"Hello, World!\")"
   ]
  },
  {
   "cell_type": "code",
   "execution_count": null,
   "id": "ed949acf",
   "metadata": {},
   "outputs": [],
   "source": [
    "message = \"Hello world\"\n",
    "print (message)"
   ]
  },
  {
   "cell_type": "code",
   "execution_count": null,
   "id": "c62d742e",
   "metadata": {},
   "outputs": [],
   "source": [
    "from IPython.display import*"
   ]
  },
  {
   "cell_type": "code",
   "execution_count": null,
   "id": "84333cc8",
   "metadata": {},
   "outputs": [],
   "source": [
    "YouTubeVideo(\"hFn5Mi3JlMM\")"
   ]
  },
  {
   "cell_type": "code",
   "execution_count": null,
   "id": "dd042ed4",
   "metadata": {},
   "outputs": [],
   "source": [
    "import webbrowser\n",
    "import requests"
   ]
  },
  {
   "cell_type": "code",
   "execution_count": null,
   "id": "ea554185",
   "metadata": {},
   "outputs": [],
   "source": [
    "print(\"Shall we hunt down an old website?\")\n",
    "site = input(\"Type a website URL: \")\n",
    "era = input(\"Type year, month, and date, e.g., 20150613: \")\n",
    "url = \"http://archive.org/wayback/available?url=%s&timestamp=%s\" % (site, era)\n",
    "response = requests.get(url)\n",
    "data = response.json()\n",
    "try:\n",
    "    old_site = data[\"archived_snapshots\"][\"closest\"][\"url\"]\n",
    "    print(\"Found this copy: \", old_site)\n",
    "    print(\"It should appear in your browser.\")\n",
    "    webbrowser.open(old_site)\n",
    "except:\n",
    "    print(\"Sorry, could not find the site.\")"
   ]
  },
  {
   "cell_type": "markdown",
   "id": "8f2c6c9d",
   "metadata": {},
   "source": [
    "# Week 2 : Exploring Data in Multiple Ways"
   ]
  },
  {
   "cell_type": "code",
   "execution_count": null,
   "id": "2f604882",
   "metadata": {},
   "outputs": [],
   "source": [
    "from IPython.display import Image "
   ]
  },
  {
   "cell_type": "code",
   "execution_count": null,
   "id": "3161bcdd",
   "metadata": {},
   "outputs": [],
   "source": [
    "Image (\"Media\\picture1.jpg\") "
   ]
  },
  {
   "cell_type": "code",
   "execution_count": null,
   "id": "def6327d",
   "metadata": {},
   "outputs": [],
   "source": [
    "from IPython.display import Audio"
   ]
  },
  {
   "cell_type": "code",
   "execution_count": null,
   "id": "192806df",
   "metadata": {
    "scrolled": true
   },
   "outputs": [],
   "source": [
    "Audio (\"Media\\Audio1.mid\")\n",
    "#This one doesn't play as MIDI files don't play in the browser, not their intended use."
   ]
  },
  {
   "cell_type": "code",
   "execution_count": null,
   "id": "bb455a97",
   "metadata": {},
   "outputs": [],
   "source": [
    "Audio (\"Media\\GoldbergVariations_MehmetOkonsar-1of3_Var1to10.ogg\")\n",
    "#This file is licensed under the Creative Commons Attribution-Share Alike 3.0 Unported license.\n",
    "#You are free: \n",
    "#•\tto share – to copy, distribute and transmit the work\n",
    "#•\tto remix – to adapt the work\n",
    "#Under the following conditions: \n",
    "#•\tattribution – You must give appropriate credit, provide a link to the license, and indicate if changes were made. You may do so in any reasonable manner, but not in any way that suggests the licensor endorses you or your use.\n",
    "#•\tshare alike – If you remix, transform, or build upon the material, you must distribute your contributions under the same or compatible license as the original.\n",
    "#The original ogg file was found at the url: \n",
    "#https://en.wikipedia.org/wiki/File:GoldbergVariations_MehmetOkonsar-1of3_Var1to10.ogg\n"
   ]
  },
  {
   "cell_type": "code",
   "execution_count": null,
   "id": "7818a094",
   "metadata": {},
   "outputs": [],
   "source": [
    "from matplotlib import pyplot"
   ]
  },
  {
   "cell_type": "code",
   "execution_count": null,
   "id": "a0f7eacb",
   "metadata": {},
   "outputs": [],
   "source": [
    "test_picture = pyplot.imread(\"Media\\picture1.jpg\")\n",
    "print(\"Numpy array of the image is: \", test_picture)\n",
    "pyplot.imshow(test_picture)"
   ]
  },
  {
   "cell_type": "code",
   "execution_count": null,
   "id": "074fac61",
   "metadata": {},
   "outputs": [],
   "source": [
    "test_picture_filtered = 2*test_picture/3\n",
    "pyplot.imshow(test_picture_filtered)"
   ]
  },
  {
   "cell_type": "code",
   "execution_count": null,
   "id": "115fdd6f",
   "metadata": {},
   "outputs": [],
   "source": [
    "from sklearn import datasets"
   ]
  },
  {
   "cell_type": "code",
   "execution_count": null,
   "id": "a2401efd",
   "metadata": {},
   "outputs": [],
   "source": [
    "dir(datasets)"
   ]
  },
  {
   "cell_type": "markdown",
   "id": "d59cd8fc",
   "metadata": {},
   "source": [
    "load_iris, load_sample_images\n",
    "I chose these because they sound interesting and I like sample images."
   ]
  },
  {
   "cell_type": "code",
   "execution_count": null,
   "id": "40470050",
   "metadata": {},
   "outputs": [],
   "source": [
    "wine_data = datasets.load_wine()"
   ]
  },
  {
   "cell_type": "code",
   "execution_count": null,
   "id": "4aed80ad",
   "metadata": {},
   "outputs": [],
   "source": [
    "iris_data = datasets.load_iris()"
   ]
  },
  {
   "cell_type": "code",
   "execution_count": null,
   "id": "dc745979",
   "metadata": {},
   "outputs": [],
   "source": [
    "sample_images_data = datasets.load_sample_images()"
   ]
  },
  {
   "cell_type": "code",
   "execution_count": null,
   "id": "a01cddfb",
   "metadata": {},
   "outputs": [],
   "source": [
    "wine_data.DESCR"
   ]
  },
  {
   "cell_type": "code",
   "execution_count": null,
   "id": "ddbf9fa5",
   "metadata": {},
   "outputs": [],
   "source": [
    "print (sample_images_data.DESCR)"
   ]
  },
  {
   "cell_type": "code",
   "execution_count": null,
   "id": "b96f203f",
   "metadata": {},
   "outputs": [],
   "source": [
    "print (iris_data.DESCR)"
   ]
  },
  {
   "cell_type": "code",
   "execution_count": null,
   "id": "f8eb9f9f",
   "metadata": {},
   "outputs": [],
   "source": [
    "iris_data.feature_names"
   ]
  },
  {
   "cell_type": "code",
   "execution_count": null,
   "id": "c1f63b49",
   "metadata": {},
   "outputs": [],
   "source": [
    "wine_data.feature_names"
   ]
  },
  {
   "cell_type": "code",
   "execution_count": null,
   "id": "288a52f9",
   "metadata": {},
   "outputs": [],
   "source": [
    "wine_data.target_names"
   ]
  },
  {
   "cell_type": "code",
   "execution_count": null,
   "id": "375c617b",
   "metadata": {},
   "outputs": [],
   "source": [
    "iris_data.target_names"
   ]
  },
  {
   "cell_type": "code",
   "execution_count": null,
   "id": "01035ab9",
   "metadata": {},
   "outputs": [],
   "source": []
  },
  {
   "cell_type": "code",
   "execution_count": null,
   "id": "67ace076",
   "metadata": {},
   "outputs": [],
   "source": [
    "from sklearn import datasets\n",
    "import pandas\n",
    "\n",
    "wine_data = datasets.load_wine()\n",
    "wine_dataframe = pandas.DataFrame(data=wine_data['data'], columns = wine_data['feature_names'])"
   ]
  },
  {
   "cell_type": "code",
   "execution_count": null,
   "id": "3f1f062b",
   "metadata": {},
   "outputs": [],
   "source": [
    "wine_dataframe.head()"
   ]
  },
  {
   "cell_type": "code",
   "execution_count": null,
   "id": "a01d2e9f",
   "metadata": {},
   "outputs": [],
   "source": [
    "wine_dataframe.describe()"
   ]
  },
  {
   "cell_type": "code",
   "execution_count": null,
   "id": "c3814b8a",
   "metadata": {},
   "outputs": [],
   "source": []
  }
 ],
 "metadata": {
  "kernelspec": {
   "display_name": "Python 3 (ipykernel)",
   "language": "python",
   "name": "python3"
  },
  "language_info": {
   "codemirror_mode": {
    "name": "ipython",
    "version": 3
   },
   "file_extension": ".py",
   "mimetype": "text/x-python",
   "name": "python",
   "nbconvert_exporter": "python",
   "pygments_lexer": "ipython3",
   "version": "3.11.4"
  }
 },
 "nbformat": 4,
 "nbformat_minor": 5
}
